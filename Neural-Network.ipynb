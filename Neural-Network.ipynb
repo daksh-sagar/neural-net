{
 "cells": [
  {
   "cell_type": "markdown",
   "metadata": {},
   "source": [
    "## Neural Network"
   ]
  },
  {
   "cell_type": "code",
   "execution_count": 13,
   "metadata": {},
   "outputs": [],
   "source": [
    "import numpy as np\n",
    "from scipy.special import expit as sigmoid"
   ]
  },
  {
   "cell_type": "markdown",
   "metadata": {},
   "source": [
    "Initialize the network with the number of **input**, **hidden** and **output** layer nodes, these define the *shape* and *size* of the network, also the **learning rate** is a useful parameter to set when defining the neural network, therefore all these go inside the `__init__()` method"
   ]
  },
  {
   "cell_type": "code",
   "execution_count": 1,
   "metadata": {},
   "outputs": [],
   "source": [
    "class NeuralNetwork:\n",
    "    \n",
    "    # initialize the netowrk\n",
    "    def __init__(self, inputNodes, hiddenNodes, outputNodes, learningRate):\n",
    "        # set shape and size \n",
    "        self.inodes = inputNodes\n",
    "        self.onodes = outputNodes\n",
    "        self.hnodes = hiddenNodes\n",
    "        \n",
    "        # set the learning rate\n",
    "        self.lr = learningRate\n",
    "        \n",
    "        # link weight matrix\n",
    "        # w_i_j, link from node i to node j\n",
    "        \n",
    "        # w11 w21 (first row)\n",
    "        # w12 w22 etc\n",
    "        \n",
    "        self.wih = (np.random.normal(0.0, pow(self.hnodes, -0.5), (self.hnodes, self.inodes)))\n",
    "        self.who = (np.random.normal(0.0, pow(self.onodes, -0.5), (self.onodes, self.hnodes)))\n",
    "        \n",
    "        # activation func is the sigmoid func\n",
    "        self.activation_func = lambda x: sigmoid(x)\n",
    "        \n",
    "        \n",
    "    # train the network\n",
    "    def train(self, inputs_list, targets_list):\n",
    "        # convert inputs_list and targets_list to column vector\n",
    "        inputs = np.array(inputs_list, ndmin=2).T\n",
    "        targets = np.array(targets_list, ndmin=2).T\n",
    "        \n",
    "        # calculate signals into hidden layer\n",
    "        hidden_inputs = np.dot(self.wih, inputs)\n",
    "        # calculate signals emerging from hidden layer\n",
    "        hidden_outputs = self.activation_func(hidden_inputs)\n",
    "        \n",
    "        # calculate signals into final output layer\n",
    "        final_inputs = np.dot(self.who, hidden_outputs)\n",
    "        # calculate signals from final output layer\n",
    "        final_outputs = self.activation_func(final_inputs)\n",
    "        \n",
    "        # Calcualte the error vector\n",
    "        output_errors = targets - final_outputs\n",
    "        # Calculate errors for node in hidden layer\n",
    "        hidden_errors = np.dot(self.who.T, output_errors)\n",
    "        \n",
    "        # Update the weights for the links b/w hidden and output layers\n",
    "        self.who += self.lr * np.dot((output_errors*final_outputs*(1-final_outputs)), np.transpose(hidden_outputs))\n",
    "        # Update the weights for the links b/w input and hidden layers\n",
    "        self.wih += self.lr * np.dot((hidden_errors*hidden_outputs*(1-hidden_outputs)), np.transpose(inputs))\n",
    "    \n",
    "    \n",
    "    # query the network\n",
    "    def query(self, inputs_list):\n",
    "        # convert input list into a column vector\n",
    "        inputs = np.array(inputs_list, ndmin=2).T\n",
    "        \n",
    "        # X_hidden = W_input_hidden .(dot) I\n",
    "        hidden_inputs = np.dot(self.wih, inputs)\n",
    "        # Singals emerging from the hidden layer (hidden_outputs)\n",
    "        hidden_outputs = self.activation_func(hidden_inputs)\n",
    "        # signals into final output layer\n",
    "        final_inputs = np.dot(self.who, hidden_outputs)\n",
    "        # signals emerging from final outuput layer\n",
    "        final_outputs = self.activation_func(final_inputs)\n",
    "        \n",
    "        return final_outputs\n",
    "    "
   ]
  },
  {
   "cell_type": "code",
   "execution_count": null,
   "metadata": {},
   "outputs": [],
   "source": []
  }
 ],
 "metadata": {
  "kernelspec": {
   "display_name": "Python 3",
   "language": "python",
   "name": "python3"
  },
  "language_info": {
   "codemirror_mode": {
    "name": "ipython",
    "version": 3
   },
   "file_extension": ".py",
   "mimetype": "text/x-python",
   "name": "python",
   "nbconvert_exporter": "python",
   "pygments_lexer": "ipython3",
   "version": "3.7.1"
  }
 },
 "nbformat": 4,
 "nbformat_minor": 2
}
